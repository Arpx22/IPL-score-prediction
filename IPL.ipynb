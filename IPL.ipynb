{
 "cells": [
  {
   "cell_type": "code",
   "execution_count": 55,
   "id": "285c5d1d",
   "metadata": {},
   "outputs": [],
   "source": [
    "# Importing essential libraries\n",
    "\n"
   ]
  },
  {
   "cell_type": "code",
   "execution_count": 56,
   "id": "2ec2b6be",
   "metadata": {},
   "outputs": [],
   "source": [
    "# Loading the dataset\n",
    "import pandas as pd\n",
    "import numpy as np\n",
    "from IPL import *"
   ]
  },
  {
   "cell_type": "code",
   "execution_count": 57,
   "id": "477c38b9",
   "metadata": {},
   "outputs": [],
   "source": [
    "X_test=pd.read_csv('IPL1_test.csv')"
   ]
  },
  {
   "cell_type": "code",
   "execution_count": 58,
   "id": "9e6f2637",
   "metadata": {},
   "outputs": [
    {
     "data": {
      "text/html": [
       "<div>\n",
       "<style scoped>\n",
       "    .dataframe tbody tr th:only-of-type {\n",
       "        vertical-align: middle;\n",
       "    }\n",
       "\n",
       "    .dataframe tbody tr th {\n",
       "        vertical-align: top;\n",
       "    }\n",
       "\n",
       "    .dataframe thead th {\n",
       "        text-align: right;\n",
       "    }\n",
       "</style>\n",
       "<table border=\"1\" class=\"dataframe\">\n",
       "  <thead>\n",
       "    <tr style=\"text-align: right;\">\n",
       "      <th></th>\n",
       "      <th>match_id</th>\n",
       "      <th>season</th>\n",
       "      <th>start_date</th>\n",
       "      <th>venue</th>\n",
       "      <th>innings</th>\n",
       "      <th>ball</th>\n",
       "      <th>batting_team</th>\n",
       "      <th>bowling_team</th>\n",
       "      <th>striker</th>\n",
       "      <th>non_striker</th>\n",
       "      <th>...</th>\n",
       "      <th>extras</th>\n",
       "      <th>wides</th>\n",
       "      <th>noballs</th>\n",
       "      <th>byes</th>\n",
       "      <th>legbyes</th>\n",
       "      <th>penalty</th>\n",
       "      <th>wicket_type</th>\n",
       "      <th>player_dismissed</th>\n",
       "      <th>other_wicket_type</th>\n",
       "      <th>other_player_dismissed</th>\n",
       "    </tr>\n",
       "  </thead>\n",
       "  <tbody>\n",
       "    <tr>\n",
       "      <th>0</th>\n",
       "      <td>1136584</td>\n",
       "      <td>2018</td>\n",
       "      <td>4/25/2018</td>\n",
       "      <td>M.Chinnaswamy Stadium</td>\n",
       "      <td>1</td>\n",
       "      <td>0.1</td>\n",
       "      <td>Royal Challengers Bangalore</td>\n",
       "      <td>Chennai Super Kings</td>\n",
       "      <td>Q de Kock</td>\n",
       "      <td>V Kohli</td>\n",
       "      <td>...</td>\n",
       "      <td>0</td>\n",
       "      <td>NaN</td>\n",
       "      <td>NaN</td>\n",
       "      <td>NaN</td>\n",
       "      <td>NaN</td>\n",
       "      <td>NaN</td>\n",
       "      <td>NaN</td>\n",
       "      <td>NaN</td>\n",
       "      <td>NaN</td>\n",
       "      <td>NaN</td>\n",
       "    </tr>\n",
       "    <tr>\n",
       "      <th>1</th>\n",
       "      <td>1136584</td>\n",
       "      <td>2018</td>\n",
       "      <td>4/25/2018</td>\n",
       "      <td>M.Chinnaswamy Stadium</td>\n",
       "      <td>1</td>\n",
       "      <td>0.2</td>\n",
       "      <td>Royal Challengers Bangalore</td>\n",
       "      <td>Chennai Super Kings</td>\n",
       "      <td>Q de Kock</td>\n",
       "      <td>V Kohli</td>\n",
       "      <td>...</td>\n",
       "      <td>0</td>\n",
       "      <td>NaN</td>\n",
       "      <td>NaN</td>\n",
       "      <td>NaN</td>\n",
       "      <td>NaN</td>\n",
       "      <td>NaN</td>\n",
       "      <td>NaN</td>\n",
       "      <td>NaN</td>\n",
       "      <td>NaN</td>\n",
       "      <td>NaN</td>\n",
       "    </tr>\n",
       "    <tr>\n",
       "      <th>2</th>\n",
       "      <td>1136584</td>\n",
       "      <td>2018</td>\n",
       "      <td>4/25/2018</td>\n",
       "      <td>M.Chinnaswamy Stadium</td>\n",
       "      <td>1</td>\n",
       "      <td>0.3</td>\n",
       "      <td>Royal Challengers Bangalore</td>\n",
       "      <td>Chennai Super Kings</td>\n",
       "      <td>V Kohli</td>\n",
       "      <td>Q de Kock</td>\n",
       "      <td>...</td>\n",
       "      <td>0</td>\n",
       "      <td>NaN</td>\n",
       "      <td>NaN</td>\n",
       "      <td>NaN</td>\n",
       "      <td>NaN</td>\n",
       "      <td>NaN</td>\n",
       "      <td>NaN</td>\n",
       "      <td>NaN</td>\n",
       "      <td>NaN</td>\n",
       "      <td>NaN</td>\n",
       "    </tr>\n",
       "    <tr>\n",
       "      <th>3</th>\n",
       "      <td>1136584</td>\n",
       "      <td>2018</td>\n",
       "      <td>4/25/2018</td>\n",
       "      <td>M.Chinnaswamy Stadium</td>\n",
       "      <td>1</td>\n",
       "      <td>0.4</td>\n",
       "      <td>Royal Challengers Bangalore</td>\n",
       "      <td>Chennai Super Kings</td>\n",
       "      <td>V Kohli</td>\n",
       "      <td>Q de Kock</td>\n",
       "      <td>...</td>\n",
       "      <td>0</td>\n",
       "      <td>NaN</td>\n",
       "      <td>NaN</td>\n",
       "      <td>NaN</td>\n",
       "      <td>NaN</td>\n",
       "      <td>NaN</td>\n",
       "      <td>NaN</td>\n",
       "      <td>NaN</td>\n",
       "      <td>NaN</td>\n",
       "      <td>NaN</td>\n",
       "    </tr>\n",
       "    <tr>\n",
       "      <th>4</th>\n",
       "      <td>1136584</td>\n",
       "      <td>2018</td>\n",
       "      <td>4/25/2018</td>\n",
       "      <td>M.Chinnaswamy Stadium</td>\n",
       "      <td>1</td>\n",
       "      <td>0.5</td>\n",
       "      <td>Royal Challengers Bangalore</td>\n",
       "      <td>Chennai Super Kings</td>\n",
       "      <td>V Kohli</td>\n",
       "      <td>Q de Kock</td>\n",
       "      <td>...</td>\n",
       "      <td>0</td>\n",
       "      <td>NaN</td>\n",
       "      <td>NaN</td>\n",
       "      <td>NaN</td>\n",
       "      <td>NaN</td>\n",
       "      <td>NaN</td>\n",
       "      <td>NaN</td>\n",
       "      <td>NaN</td>\n",
       "      <td>NaN</td>\n",
       "      <td>NaN</td>\n",
       "    </tr>\n",
       "    <tr>\n",
       "      <th>...</th>\n",
       "      <td>...</td>\n",
       "      <td>...</td>\n",
       "      <td>...</td>\n",
       "      <td>...</td>\n",
       "      <td>...</td>\n",
       "      <td>...</td>\n",
       "      <td>...</td>\n",
       "      <td>...</td>\n",
       "      <td>...</td>\n",
       "      <td>...</td>\n",
       "      <td>...</td>\n",
       "      <td>...</td>\n",
       "      <td>...</td>\n",
       "      <td>...</td>\n",
       "      <td>...</td>\n",
       "      <td>...</td>\n",
       "      <td>...</td>\n",
       "      <td>...</td>\n",
       "      <td>...</td>\n",
       "      <td>...</td>\n",
       "      <td>...</td>\n",
       "    </tr>\n",
       "    <tr>\n",
       "      <th>119</th>\n",
       "      <td>1136584</td>\n",
       "      <td>2018</td>\n",
       "      <td>4/25/2018</td>\n",
       "      <td>M.Chinnaswamy Stadium</td>\n",
       "      <td>1</td>\n",
       "      <td>19.3</td>\n",
       "      <td>Royal Challengers Bangalore</td>\n",
       "      <td>Chennai Super Kings</td>\n",
       "      <td>UT Yadav</td>\n",
       "      <td>Washington Sundar</td>\n",
       "      <td>...</td>\n",
       "      <td>1</td>\n",
       "      <td>1.0</td>\n",
       "      <td>NaN</td>\n",
       "      <td>NaN</td>\n",
       "      <td>NaN</td>\n",
       "      <td>NaN</td>\n",
       "      <td>NaN</td>\n",
       "      <td>NaN</td>\n",
       "      <td>NaN</td>\n",
       "      <td>NaN</td>\n",
       "    </tr>\n",
       "    <tr>\n",
       "      <th>120</th>\n",
       "      <td>1136584</td>\n",
       "      <td>2018</td>\n",
       "      <td>4/25/2018</td>\n",
       "      <td>M.Chinnaswamy Stadium</td>\n",
       "      <td>1</td>\n",
       "      <td>19.4</td>\n",
       "      <td>Royal Challengers Bangalore</td>\n",
       "      <td>Chennai Super Kings</td>\n",
       "      <td>UT Yadav</td>\n",
       "      <td>Washington Sundar</td>\n",
       "      <td>...</td>\n",
       "      <td>0</td>\n",
       "      <td>NaN</td>\n",
       "      <td>NaN</td>\n",
       "      <td>NaN</td>\n",
       "      <td>NaN</td>\n",
       "      <td>NaN</td>\n",
       "      <td>caught</td>\n",
       "      <td>UT Yadav</td>\n",
       "      <td>NaN</td>\n",
       "      <td>NaN</td>\n",
       "    </tr>\n",
       "    <tr>\n",
       "      <th>121</th>\n",
       "      <td>1136584</td>\n",
       "      <td>2018</td>\n",
       "      <td>4/25/2018</td>\n",
       "      <td>M.Chinnaswamy Stadium</td>\n",
       "      <td>1</td>\n",
       "      <td>19.5</td>\n",
       "      <td>Royal Challengers Bangalore</td>\n",
       "      <td>Chennai Super Kings</td>\n",
       "      <td>Washington Sundar</td>\n",
       "      <td>Mohammed Siraj</td>\n",
       "      <td>...</td>\n",
       "      <td>0</td>\n",
       "      <td>NaN</td>\n",
       "      <td>NaN</td>\n",
       "      <td>NaN</td>\n",
       "      <td>NaN</td>\n",
       "      <td>NaN</td>\n",
       "      <td>NaN</td>\n",
       "      <td>NaN</td>\n",
       "      <td>NaN</td>\n",
       "      <td>NaN</td>\n",
       "    </tr>\n",
       "    <tr>\n",
       "      <th>122</th>\n",
       "      <td>1136584</td>\n",
       "      <td>2018</td>\n",
       "      <td>4/25/2018</td>\n",
       "      <td>M.Chinnaswamy Stadium</td>\n",
       "      <td>1</td>\n",
       "      <td>19.6</td>\n",
       "      <td>Royal Challengers Bangalore</td>\n",
       "      <td>Chennai Super Kings</td>\n",
       "      <td>Washington Sundar</td>\n",
       "      <td>Mohammed Siraj</td>\n",
       "      <td>...</td>\n",
       "      <td>0</td>\n",
       "      <td>NaN</td>\n",
       "      <td>NaN</td>\n",
       "      <td>NaN</td>\n",
       "      <td>NaN</td>\n",
       "      <td>NaN</td>\n",
       "      <td>NaN</td>\n",
       "      <td>NaN</td>\n",
       "      <td>NaN</td>\n",
       "      <td>NaN</td>\n",
       "    </tr>\n",
       "    <tr>\n",
       "      <th>123</th>\n",
       "      <td>1136584</td>\n",
       "      <td>2018</td>\n",
       "      <td>4/25/2018</td>\n",
       "      <td>M.Chinnaswamy Stadium</td>\n",
       "      <td>1</td>\n",
       "      <td>19.7</td>\n",
       "      <td>Royal Challengers Bangalore</td>\n",
       "      <td>Chennai Super Kings</td>\n",
       "      <td>Washington Sundar</td>\n",
       "      <td>Mohammed Siraj</td>\n",
       "      <td>...</td>\n",
       "      <td>0</td>\n",
       "      <td>NaN</td>\n",
       "      <td>NaN</td>\n",
       "      <td>NaN</td>\n",
       "      <td>NaN</td>\n",
       "      <td>NaN</td>\n",
       "      <td>NaN</td>\n",
       "      <td>NaN</td>\n",
       "      <td>NaN</td>\n",
       "      <td>NaN</td>\n",
       "    </tr>\n",
       "  </tbody>\n",
       "</table>\n",
       "<p>124 rows × 22 columns</p>\n",
       "</div>"
      ],
      "text/plain": [
       "     match_id  season start_date                  venue  innings  ball  \\\n",
       "0     1136584    2018  4/25/2018  M.Chinnaswamy Stadium        1   0.1   \n",
       "1     1136584    2018  4/25/2018  M.Chinnaswamy Stadium        1   0.2   \n",
       "2     1136584    2018  4/25/2018  M.Chinnaswamy Stadium        1   0.3   \n",
       "3     1136584    2018  4/25/2018  M.Chinnaswamy Stadium        1   0.4   \n",
       "4     1136584    2018  4/25/2018  M.Chinnaswamy Stadium        1   0.5   \n",
       "..        ...     ...        ...                    ...      ...   ...   \n",
       "119   1136584    2018  4/25/2018  M.Chinnaswamy Stadium        1  19.3   \n",
       "120   1136584    2018  4/25/2018  M.Chinnaswamy Stadium        1  19.4   \n",
       "121   1136584    2018  4/25/2018  M.Chinnaswamy Stadium        1  19.5   \n",
       "122   1136584    2018  4/25/2018  M.Chinnaswamy Stadium        1  19.6   \n",
       "123   1136584    2018  4/25/2018  M.Chinnaswamy Stadium        1  19.7   \n",
       "\n",
       "                    batting_team         bowling_team            striker  \\\n",
       "0    Royal Challengers Bangalore  Chennai Super Kings          Q de Kock   \n",
       "1    Royal Challengers Bangalore  Chennai Super Kings          Q de Kock   \n",
       "2    Royal Challengers Bangalore  Chennai Super Kings            V Kohli   \n",
       "3    Royal Challengers Bangalore  Chennai Super Kings            V Kohli   \n",
       "4    Royal Challengers Bangalore  Chennai Super Kings            V Kohli   \n",
       "..                           ...                  ...                ...   \n",
       "119  Royal Challengers Bangalore  Chennai Super Kings           UT Yadav   \n",
       "120  Royal Challengers Bangalore  Chennai Super Kings           UT Yadav   \n",
       "121  Royal Challengers Bangalore  Chennai Super Kings  Washington Sundar   \n",
       "122  Royal Challengers Bangalore  Chennai Super Kings  Washington Sundar   \n",
       "123  Royal Challengers Bangalore  Chennai Super Kings  Washington Sundar   \n",
       "\n",
       "           non_striker  ... extras  wides  noballs  byes  legbyes  penalty  \\\n",
       "0              V Kohli  ...      0    NaN      NaN   NaN      NaN      NaN   \n",
       "1              V Kohli  ...      0    NaN      NaN   NaN      NaN      NaN   \n",
       "2            Q de Kock  ...      0    NaN      NaN   NaN      NaN      NaN   \n",
       "3            Q de Kock  ...      0    NaN      NaN   NaN      NaN      NaN   \n",
       "4            Q de Kock  ...      0    NaN      NaN   NaN      NaN      NaN   \n",
       "..                 ...  ...    ...    ...      ...   ...      ...      ...   \n",
       "119  Washington Sundar  ...      1    1.0      NaN   NaN      NaN      NaN   \n",
       "120  Washington Sundar  ...      0    NaN      NaN   NaN      NaN      NaN   \n",
       "121     Mohammed Siraj  ...      0    NaN      NaN   NaN      NaN      NaN   \n",
       "122     Mohammed Siraj  ...      0    NaN      NaN   NaN      NaN      NaN   \n",
       "123     Mohammed Siraj  ...      0    NaN      NaN   NaN      NaN      NaN   \n",
       "\n",
       "     wicket_type  player_dismissed other_wicket_type other_player_dismissed  \n",
       "0            NaN               NaN               NaN                    NaN  \n",
       "1            NaN               NaN               NaN                    NaN  \n",
       "2            NaN               NaN               NaN                    NaN  \n",
       "3            NaN               NaN               NaN                    NaN  \n",
       "4            NaN               NaN               NaN                    NaN  \n",
       "..           ...               ...               ...                    ...  \n",
       "119          NaN               NaN               NaN                    NaN  \n",
       "120       caught          UT Yadav               NaN                    NaN  \n",
       "121          NaN               NaN               NaN                    NaN  \n",
       "122          NaN               NaN               NaN                    NaN  \n",
       "123          NaN               NaN               NaN                    NaN  \n",
       "\n",
       "[124 rows x 22 columns]"
      ]
     },
     "execution_count": 58,
     "metadata": {},
     "output_type": "execute_result"
    }
   ],
   "source": [
    "X_test"
   ]
  },
  {
   "cell_type": "code",
   "execution_count": null,
   "id": "35866b43",
   "metadata": {},
   "outputs": [],
   "source": []
  },
  {
   "cell_type": "code",
   "execution_count": 59,
   "id": "a763f1fc",
   "metadata": {},
   "outputs": [],
   "source": [
    "X_test = X_test[X_test['ball']<=6.0]"
   ]
  },
  {
   "cell_type": "code",
   "execution_count": 60,
   "id": "9c0d1608",
   "metadata": {},
   "outputs": [],
   "source": [
    "match_group_1st = X_test.groupby([\"match_id\"])\n",
    "m1=match_group_1st[\"runs_off_bat\"].sum()"
   ]
  },
  {
   "cell_type": "code",
   "execution_count": 61,
   "id": "9d0c898f",
   "metadata": {},
   "outputs": [
    {
     "data": {
      "text/plain": [
       "match_id\n",
       "1136584    52\n",
       "Name: runs_off_bat, dtype: int64"
      ]
     },
     "execution_count": 61,
     "metadata": {},
     "output_type": "execute_result"
    }
   ],
   "source": [
    "m1"
   ]
  },
  {
   "cell_type": "code",
   "execution_count": 62,
   "id": "69cfb0be",
   "metadata": {},
   "outputs": [],
   "source": [
    "arr = []\n",
    "ar1 = []\n",
    "for i in m1.index:\n",
    "        \"\"\"for _ in df_1st[(df_1st['match_id']==i)] :\"\"\"\n",
    "        x1=np.zeros(len(X_test[(X_test['match_id']==i)]),dtype=int)\n",
    "        x1+=m1[i]\n",
    "        arr.append(x1)\n",
    "\n",
    "\n",
    "for i in arr:\n",
    "    for j in i: \n",
    "        ar1.append(int(j)) "
   ]
  },
  {
   "cell_type": "code",
   "execution_count": 63,
   "id": "1889974f",
   "metadata": {},
   "outputs": [
    {
     "name": "stderr",
     "output_type": "stream",
     "text": [
      "<ipython-input-63-ba63300fbf15>:1: SettingWithCopyWarning: \n",
      "A value is trying to be set on a copy of a slice from a DataFrame.\n",
      "Try using .loc[row_indexer,col_indexer] = value instead\n",
      "\n",
      "See the caveats in the documentation: https://pandas.pydata.org/pandas-docs/stable/user_guide/indexing.html#returning-a-view-versus-a-copy\n",
      "  X_test['runs_6_overs']=ar1\n"
     ]
    }
   ],
   "source": [
    "X_test['runs_6_overs']=ar1"
   ]
  },
  {
   "cell_type": "code",
   "execution_count": 64,
   "id": "763cb1ff",
   "metadata": {},
   "outputs": [
    {
     "data": {
      "text/html": [
       "<div>\n",
       "<style scoped>\n",
       "    .dataframe tbody tr th:only-of-type {\n",
       "        vertical-align: middle;\n",
       "    }\n",
       "\n",
       "    .dataframe tbody tr th {\n",
       "        vertical-align: top;\n",
       "    }\n",
       "\n",
       "    .dataframe thead th {\n",
       "        text-align: right;\n",
       "    }\n",
       "</style>\n",
       "<table border=\"1\" class=\"dataframe\">\n",
       "  <thead>\n",
       "    <tr style=\"text-align: right;\">\n",
       "      <th></th>\n",
       "      <th>match_id</th>\n",
       "      <th>season</th>\n",
       "      <th>start_date</th>\n",
       "      <th>venue</th>\n",
       "      <th>innings</th>\n",
       "      <th>ball</th>\n",
       "      <th>batting_team</th>\n",
       "      <th>bowling_team</th>\n",
       "      <th>striker</th>\n",
       "      <th>non_striker</th>\n",
       "      <th>...</th>\n",
       "      <th>wides</th>\n",
       "      <th>noballs</th>\n",
       "      <th>byes</th>\n",
       "      <th>legbyes</th>\n",
       "      <th>penalty</th>\n",
       "      <th>wicket_type</th>\n",
       "      <th>player_dismissed</th>\n",
       "      <th>other_wicket_type</th>\n",
       "      <th>other_player_dismissed</th>\n",
       "      <th>runs_6_overs</th>\n",
       "    </tr>\n",
       "  </thead>\n",
       "  <tbody>\n",
       "    <tr>\n",
       "      <th>0</th>\n",
       "      <td>1136584</td>\n",
       "      <td>2018</td>\n",
       "      <td>4/25/2018</td>\n",
       "      <td>M.Chinnaswamy Stadium</td>\n",
       "      <td>1</td>\n",
       "      <td>0.1</td>\n",
       "      <td>Royal Challengers Bangalore</td>\n",
       "      <td>Chennai Super Kings</td>\n",
       "      <td>Q de Kock</td>\n",
       "      <td>V Kohli</td>\n",
       "      <td>...</td>\n",
       "      <td>NaN</td>\n",
       "      <td>NaN</td>\n",
       "      <td>NaN</td>\n",
       "      <td>NaN</td>\n",
       "      <td>NaN</td>\n",
       "      <td>NaN</td>\n",
       "      <td>NaN</td>\n",
       "      <td>NaN</td>\n",
       "      <td>NaN</td>\n",
       "      <td>52</td>\n",
       "    </tr>\n",
       "    <tr>\n",
       "      <th>1</th>\n",
       "      <td>1136584</td>\n",
       "      <td>2018</td>\n",
       "      <td>4/25/2018</td>\n",
       "      <td>M.Chinnaswamy Stadium</td>\n",
       "      <td>1</td>\n",
       "      <td>0.2</td>\n",
       "      <td>Royal Challengers Bangalore</td>\n",
       "      <td>Chennai Super Kings</td>\n",
       "      <td>Q de Kock</td>\n",
       "      <td>V Kohli</td>\n",
       "      <td>...</td>\n",
       "      <td>NaN</td>\n",
       "      <td>NaN</td>\n",
       "      <td>NaN</td>\n",
       "      <td>NaN</td>\n",
       "      <td>NaN</td>\n",
       "      <td>NaN</td>\n",
       "      <td>NaN</td>\n",
       "      <td>NaN</td>\n",
       "      <td>NaN</td>\n",
       "      <td>52</td>\n",
       "    </tr>\n",
       "    <tr>\n",
       "      <th>2</th>\n",
       "      <td>1136584</td>\n",
       "      <td>2018</td>\n",
       "      <td>4/25/2018</td>\n",
       "      <td>M.Chinnaswamy Stadium</td>\n",
       "      <td>1</td>\n",
       "      <td>0.3</td>\n",
       "      <td>Royal Challengers Bangalore</td>\n",
       "      <td>Chennai Super Kings</td>\n",
       "      <td>V Kohli</td>\n",
       "      <td>Q de Kock</td>\n",
       "      <td>...</td>\n",
       "      <td>NaN</td>\n",
       "      <td>NaN</td>\n",
       "      <td>NaN</td>\n",
       "      <td>NaN</td>\n",
       "      <td>NaN</td>\n",
       "      <td>NaN</td>\n",
       "      <td>NaN</td>\n",
       "      <td>NaN</td>\n",
       "      <td>NaN</td>\n",
       "      <td>52</td>\n",
       "    </tr>\n",
       "    <tr>\n",
       "      <th>3</th>\n",
       "      <td>1136584</td>\n",
       "      <td>2018</td>\n",
       "      <td>4/25/2018</td>\n",
       "      <td>M.Chinnaswamy Stadium</td>\n",
       "      <td>1</td>\n",
       "      <td>0.4</td>\n",
       "      <td>Royal Challengers Bangalore</td>\n",
       "      <td>Chennai Super Kings</td>\n",
       "      <td>V Kohli</td>\n",
       "      <td>Q de Kock</td>\n",
       "      <td>...</td>\n",
       "      <td>NaN</td>\n",
       "      <td>NaN</td>\n",
       "      <td>NaN</td>\n",
       "      <td>NaN</td>\n",
       "      <td>NaN</td>\n",
       "      <td>NaN</td>\n",
       "      <td>NaN</td>\n",
       "      <td>NaN</td>\n",
       "      <td>NaN</td>\n",
       "      <td>52</td>\n",
       "    </tr>\n",
       "    <tr>\n",
       "      <th>4</th>\n",
       "      <td>1136584</td>\n",
       "      <td>2018</td>\n",
       "      <td>4/25/2018</td>\n",
       "      <td>M.Chinnaswamy Stadium</td>\n",
       "      <td>1</td>\n",
       "      <td>0.5</td>\n",
       "      <td>Royal Challengers Bangalore</td>\n",
       "      <td>Chennai Super Kings</td>\n",
       "      <td>V Kohli</td>\n",
       "      <td>Q de Kock</td>\n",
       "      <td>...</td>\n",
       "      <td>NaN</td>\n",
       "      <td>NaN</td>\n",
       "      <td>NaN</td>\n",
       "      <td>NaN</td>\n",
       "      <td>NaN</td>\n",
       "      <td>NaN</td>\n",
       "      <td>NaN</td>\n",
       "      <td>NaN</td>\n",
       "      <td>NaN</td>\n",
       "      <td>52</td>\n",
       "    </tr>\n",
       "  </tbody>\n",
       "</table>\n",
       "<p>5 rows × 23 columns</p>\n",
       "</div>"
      ],
      "text/plain": [
       "   match_id  season start_date                  venue  innings  ball  \\\n",
       "0   1136584    2018  4/25/2018  M.Chinnaswamy Stadium        1   0.1   \n",
       "1   1136584    2018  4/25/2018  M.Chinnaswamy Stadium        1   0.2   \n",
       "2   1136584    2018  4/25/2018  M.Chinnaswamy Stadium        1   0.3   \n",
       "3   1136584    2018  4/25/2018  M.Chinnaswamy Stadium        1   0.4   \n",
       "4   1136584    2018  4/25/2018  M.Chinnaswamy Stadium        1   0.5   \n",
       "\n",
       "                  batting_team         bowling_team    striker non_striker  \\\n",
       "0  Royal Challengers Bangalore  Chennai Super Kings  Q de Kock     V Kohli   \n",
       "1  Royal Challengers Bangalore  Chennai Super Kings  Q de Kock     V Kohli   \n",
       "2  Royal Challengers Bangalore  Chennai Super Kings    V Kohli   Q de Kock   \n",
       "3  Royal Challengers Bangalore  Chennai Super Kings    V Kohli   Q de Kock   \n",
       "4  Royal Challengers Bangalore  Chennai Super Kings    V Kohli   Q de Kock   \n",
       "\n",
       "   ... wides  noballs  byes  legbyes  penalty  wicket_type  player_dismissed  \\\n",
       "0  ...   NaN      NaN   NaN      NaN      NaN          NaN               NaN   \n",
       "1  ...   NaN      NaN   NaN      NaN      NaN          NaN               NaN   \n",
       "2  ...   NaN      NaN   NaN      NaN      NaN          NaN               NaN   \n",
       "3  ...   NaN      NaN   NaN      NaN      NaN          NaN               NaN   \n",
       "4  ...   NaN      NaN   NaN      NaN      NaN          NaN               NaN   \n",
       "\n",
       "   other_wicket_type other_player_dismissed runs_6_overs  \n",
       "0                NaN                    NaN           52  \n",
       "1                NaN                    NaN           52  \n",
       "2                NaN                    NaN           52  \n",
       "3                NaN                    NaN           52  \n",
       "4                NaN                    NaN           52  \n",
       "\n",
       "[5 rows x 23 columns]"
      ]
     },
     "execution_count": 64,
     "metadata": {},
     "output_type": "execute_result"
    }
   ],
   "source": [
    "X_test.head()"
   ]
  },
  {
   "cell_type": "code",
   "execution_count": 65,
   "id": "ef2420ba",
   "metadata": {},
   "outputs": [],
   "source": [
    "columns_to_remove = ['start_date' ,'extras', 'wides', 'noballs', 'byes', 'legbyes', 'penalty',\n",
    "       'wicket_type', 'player_dismissed', 'other_wicket_type',\n",
    "       'other_player_dismissed','season', 'start_date','striker', 'non_striker', 'bowler','runs_6_overs','match_id','ball','runs_off_bat','wickets_6_overs']\n",
    "#X_test.drop(labels=columns_to_remove, axis=1, inplace=True)"
   ]
  },
  {
   "cell_type": "code",
   "execution_count": 66,
   "id": "e44a19ee",
   "metadata": {},
   "outputs": [
    {
     "data": {
      "text/plain": [
       "Index(['match_id', 'season', 'start_date', 'venue', 'innings', 'ball',\n",
       "       'batting_team', 'bowling_team', 'striker', 'non_striker', 'bowler',\n",
       "       'runs_off_bat', 'extras', 'wides', 'noballs', 'byes', 'legbyes',\n",
       "       'penalty', 'wicket_type', 'player_dismissed', 'other_wicket_type',\n",
       "       'other_player_dismissed', 'runs_6_overs'],\n",
       "      dtype='object')"
      ]
     },
     "execution_count": 66,
     "metadata": {},
     "output_type": "execute_result"
    }
   ],
   "source": [
    "X_test.columns"
   ]
  },
  {
   "cell_type": "code",
   "execution_count": 67,
   "id": "f44a32ed",
   "metadata": {},
   "outputs": [],
   "source": [
    "match_group_1st = X_test.groupby([\"match_id\"])\n",
    "m1=match_group_1st[\"player_dismissed\"].count()"
   ]
  },
  {
   "cell_type": "code",
   "execution_count": 68,
   "id": "4df4e67f",
   "metadata": {},
   "outputs": [],
   "source": [
    "arr = []\n",
    "ar1 = []\n",
    "for i in m1.index:\n",
    "        \"\"\"for _ in df_1st[(df_1st['match_id']==i)] :\"\"\"\n",
    "        x1=np.zeros(len(X_test[(X_test['match_id']==i)]),dtype=int)\n",
    "        x1+=m1[i]\n",
    "        arr.append(x1)\n",
    "\n",
    "\n",
    "for i in arr:\n",
    "    for j in i: \n",
    "        ar1.append(int(j)) "
   ]
  },
  {
   "cell_type": "code",
   "execution_count": 69,
   "id": "141bbf64",
   "metadata": {},
   "outputs": [
    {
     "name": "stderr",
     "output_type": "stream",
     "text": [
      "<ipython-input-69-1bb35d2320ab>:1: SettingWithCopyWarning: \n",
      "A value is trying to be set on a copy of a slice from a DataFrame.\n",
      "Try using .loc[row_indexer,col_indexer] = value instead\n",
      "\n",
      "See the caveats in the documentation: https://pandas.pydata.org/pandas-docs/stable/user_guide/indexing.html#returning-a-view-versus-a-copy\n",
      "  X_test['wickets_6_overs']=ar1\n"
     ]
    }
   ],
   "source": [
    "X_test['wickets_6_overs']=ar1"
   ]
  },
  {
   "cell_type": "code",
   "execution_count": 70,
   "id": "2aeb1cfc",
   "metadata": {},
   "outputs": [
    {
     "name": "stderr",
     "output_type": "stream",
     "text": [
      "C:\\Users\\thepr\\anaconda3\\lib\\site-packages\\pandas\\core\\frame.py:4308: SettingWithCopyWarning: \n",
      "A value is trying to be set on a copy of a slice from a DataFrame\n",
      "\n",
      "See the caveats in the documentation: https://pandas.pydata.org/pandas-docs/stable/user_guide/indexing.html#returning-a-view-versus-a-copy\n",
      "  return super().drop(\n"
     ]
    }
   ],
   "source": [
    "X_test.drop(labels=columns_to_remove,\n",
    "            axis=1, inplace=True)"
   ]
  },
  {
   "cell_type": "code",
   "execution_count": 71,
   "id": "a24b8747",
   "metadata": {},
   "outputs": [
    {
     "data": {
      "text/plain": [
       "venue                 M.Chinnaswamy Stadium\n",
       "innings                                   1\n",
       "batting_team    Royal Challengers Bangalore\n",
       "bowling_team            Chennai Super Kings\n",
       "Name: 0, dtype: object"
      ]
     },
     "execution_count": 71,
     "metadata": {},
     "output_type": "execute_result"
    }
   ],
   "source": [
    "X_test.loc[0]"
   ]
  },
  {
   "cell_type": "code",
   "execution_count": null,
   "id": "413f2eba",
   "metadata": {},
   "outputs": [],
   "source": []
  },
  {
   "cell_type": "code",
   "execution_count": 72,
   "id": "c72bb553",
   "metadata": {},
   "outputs": [
    {
     "data": {
      "text/plain": [
       "36"
      ]
     },
     "execution_count": 72,
     "metadata": {},
     "output_type": "execute_result"
    }
   ],
   "source": [
    "len(X_test)\n"
   ]
  },
  {
   "cell_type": "code",
   "execution_count": null,
   "id": "f2566eda",
   "metadata": {},
   "outputs": [],
   "source": []
  },
  {
   "cell_type": "code",
   "execution_count": 73,
   "id": "0a540c32",
   "metadata": {},
   "outputs": [],
   "source": [
    "batting_team = X_test['batting_team'][0]\n",
    "bowling_team = X_test['bowling_team'][0]\n",
    "venue = X_test['venue'][0]\n",
    "innings = X_test['innings'][0]\n"
   ]
  },
  {
   "cell_type": "code",
   "execution_count": 74,
   "id": "a9fd7af5",
   "metadata": {},
   "outputs": [
    {
     "data": {
      "text/html": [
       "<div>\n",
       "<style scoped>\n",
       "    .dataframe tbody tr th:only-of-type {\n",
       "        vertical-align: middle;\n",
       "    }\n",
       "\n",
       "    .dataframe tbody tr th {\n",
       "        vertical-align: top;\n",
       "    }\n",
       "\n",
       "    .dataframe thead th {\n",
       "        text-align: right;\n",
       "    }\n",
       "</style>\n",
       "<table border=\"1\" class=\"dataframe\">\n",
       "  <thead>\n",
       "    <tr style=\"text-align: right;\">\n",
       "      <th></th>\n",
       "      <th>venue</th>\n",
       "      <th>innings</th>\n",
       "      <th>batting_team</th>\n",
       "      <th>bowling_team</th>\n",
       "    </tr>\n",
       "  </thead>\n",
       "  <tbody>\n",
       "    <tr>\n",
       "      <th>0</th>\n",
       "      <td>M.Chinnaswamy Stadium</td>\n",
       "      <td>1</td>\n",
       "      <td>Royal Challengers Bangalore</td>\n",
       "      <td>Chennai Super Kings</td>\n",
       "    </tr>\n",
       "    <tr>\n",
       "      <th>1</th>\n",
       "      <td>M.Chinnaswamy Stadium</td>\n",
       "      <td>1</td>\n",
       "      <td>Royal Challengers Bangalore</td>\n",
       "      <td>Chennai Super Kings</td>\n",
       "    </tr>\n",
       "    <tr>\n",
       "      <th>2</th>\n",
       "      <td>M.Chinnaswamy Stadium</td>\n",
       "      <td>1</td>\n",
       "      <td>Royal Challengers Bangalore</td>\n",
       "      <td>Chennai Super Kings</td>\n",
       "    </tr>\n",
       "    <tr>\n",
       "      <th>3</th>\n",
       "      <td>M.Chinnaswamy Stadium</td>\n",
       "      <td>1</td>\n",
       "      <td>Royal Challengers Bangalore</td>\n",
       "      <td>Chennai Super Kings</td>\n",
       "    </tr>\n",
       "    <tr>\n",
       "      <th>4</th>\n",
       "      <td>M.Chinnaswamy Stadium</td>\n",
       "      <td>1</td>\n",
       "      <td>Royal Challengers Bangalore</td>\n",
       "      <td>Chennai Super Kings</td>\n",
       "    </tr>\n",
       "    <tr>\n",
       "      <th>5</th>\n",
       "      <td>M.Chinnaswamy Stadium</td>\n",
       "      <td>1</td>\n",
       "      <td>Royal Challengers Bangalore</td>\n",
       "      <td>Chennai Super Kings</td>\n",
       "    </tr>\n",
       "    <tr>\n",
       "      <th>6</th>\n",
       "      <td>M.Chinnaswamy Stadium</td>\n",
       "      <td>1</td>\n",
       "      <td>Royal Challengers Bangalore</td>\n",
       "      <td>Chennai Super Kings</td>\n",
       "    </tr>\n",
       "    <tr>\n",
       "      <th>7</th>\n",
       "      <td>M.Chinnaswamy Stadium</td>\n",
       "      <td>1</td>\n",
       "      <td>Royal Challengers Bangalore</td>\n",
       "      <td>Chennai Super Kings</td>\n",
       "    </tr>\n",
       "    <tr>\n",
       "      <th>8</th>\n",
       "      <td>M.Chinnaswamy Stadium</td>\n",
       "      <td>1</td>\n",
       "      <td>Royal Challengers Bangalore</td>\n",
       "      <td>Chennai Super Kings</td>\n",
       "    </tr>\n",
       "    <tr>\n",
       "      <th>9</th>\n",
       "      <td>M.Chinnaswamy Stadium</td>\n",
       "      <td>1</td>\n",
       "      <td>Royal Challengers Bangalore</td>\n",
       "      <td>Chennai Super Kings</td>\n",
       "    </tr>\n",
       "    <tr>\n",
       "      <th>10</th>\n",
       "      <td>M.Chinnaswamy Stadium</td>\n",
       "      <td>1</td>\n",
       "      <td>Royal Challengers Bangalore</td>\n",
       "      <td>Chennai Super Kings</td>\n",
       "    </tr>\n",
       "    <tr>\n",
       "      <th>11</th>\n",
       "      <td>M.Chinnaswamy Stadium</td>\n",
       "      <td>1</td>\n",
       "      <td>Royal Challengers Bangalore</td>\n",
       "      <td>Chennai Super Kings</td>\n",
       "    </tr>\n",
       "    <tr>\n",
       "      <th>12</th>\n",
       "      <td>M.Chinnaswamy Stadium</td>\n",
       "      <td>1</td>\n",
       "      <td>Royal Challengers Bangalore</td>\n",
       "      <td>Chennai Super Kings</td>\n",
       "    </tr>\n",
       "    <tr>\n",
       "      <th>13</th>\n",
       "      <td>M.Chinnaswamy Stadium</td>\n",
       "      <td>1</td>\n",
       "      <td>Royal Challengers Bangalore</td>\n",
       "      <td>Chennai Super Kings</td>\n",
       "    </tr>\n",
       "    <tr>\n",
       "      <th>14</th>\n",
       "      <td>M.Chinnaswamy Stadium</td>\n",
       "      <td>1</td>\n",
       "      <td>Royal Challengers Bangalore</td>\n",
       "      <td>Chennai Super Kings</td>\n",
       "    </tr>\n",
       "    <tr>\n",
       "      <th>15</th>\n",
       "      <td>M.Chinnaswamy Stadium</td>\n",
       "      <td>1</td>\n",
       "      <td>Royal Challengers Bangalore</td>\n",
       "      <td>Chennai Super Kings</td>\n",
       "    </tr>\n",
       "    <tr>\n",
       "      <th>16</th>\n",
       "      <td>M.Chinnaswamy Stadium</td>\n",
       "      <td>1</td>\n",
       "      <td>Royal Challengers Bangalore</td>\n",
       "      <td>Chennai Super Kings</td>\n",
       "    </tr>\n",
       "    <tr>\n",
       "      <th>17</th>\n",
       "      <td>M.Chinnaswamy Stadium</td>\n",
       "      <td>1</td>\n",
       "      <td>Royal Challengers Bangalore</td>\n",
       "      <td>Chennai Super Kings</td>\n",
       "    </tr>\n",
       "    <tr>\n",
       "      <th>18</th>\n",
       "      <td>M.Chinnaswamy Stadium</td>\n",
       "      <td>1</td>\n",
       "      <td>Royal Challengers Bangalore</td>\n",
       "      <td>Chennai Super Kings</td>\n",
       "    </tr>\n",
       "    <tr>\n",
       "      <th>19</th>\n",
       "      <td>M.Chinnaswamy Stadium</td>\n",
       "      <td>1</td>\n",
       "      <td>Royal Challengers Bangalore</td>\n",
       "      <td>Chennai Super Kings</td>\n",
       "    </tr>\n",
       "    <tr>\n",
       "      <th>20</th>\n",
       "      <td>M.Chinnaswamy Stadium</td>\n",
       "      <td>1</td>\n",
       "      <td>Royal Challengers Bangalore</td>\n",
       "      <td>Chennai Super Kings</td>\n",
       "    </tr>\n",
       "    <tr>\n",
       "      <th>21</th>\n",
       "      <td>M.Chinnaswamy Stadium</td>\n",
       "      <td>1</td>\n",
       "      <td>Royal Challengers Bangalore</td>\n",
       "      <td>Chennai Super Kings</td>\n",
       "    </tr>\n",
       "    <tr>\n",
       "      <th>22</th>\n",
       "      <td>M.Chinnaswamy Stadium</td>\n",
       "      <td>1</td>\n",
       "      <td>Royal Challengers Bangalore</td>\n",
       "      <td>Chennai Super Kings</td>\n",
       "    </tr>\n",
       "    <tr>\n",
       "      <th>23</th>\n",
       "      <td>M.Chinnaswamy Stadium</td>\n",
       "      <td>1</td>\n",
       "      <td>Royal Challengers Bangalore</td>\n",
       "      <td>Chennai Super Kings</td>\n",
       "    </tr>\n",
       "    <tr>\n",
       "      <th>24</th>\n",
       "      <td>M.Chinnaswamy Stadium</td>\n",
       "      <td>1</td>\n",
       "      <td>Royal Challengers Bangalore</td>\n",
       "      <td>Chennai Super Kings</td>\n",
       "    </tr>\n",
       "    <tr>\n",
       "      <th>25</th>\n",
       "      <td>M.Chinnaswamy Stadium</td>\n",
       "      <td>1</td>\n",
       "      <td>Royal Challengers Bangalore</td>\n",
       "      <td>Chennai Super Kings</td>\n",
       "    </tr>\n",
       "    <tr>\n",
       "      <th>26</th>\n",
       "      <td>M.Chinnaswamy Stadium</td>\n",
       "      <td>1</td>\n",
       "      <td>Royal Challengers Bangalore</td>\n",
       "      <td>Chennai Super Kings</td>\n",
       "    </tr>\n",
       "    <tr>\n",
       "      <th>27</th>\n",
       "      <td>M.Chinnaswamy Stadium</td>\n",
       "      <td>1</td>\n",
       "      <td>Royal Challengers Bangalore</td>\n",
       "      <td>Chennai Super Kings</td>\n",
       "    </tr>\n",
       "    <tr>\n",
       "      <th>28</th>\n",
       "      <td>M.Chinnaswamy Stadium</td>\n",
       "      <td>1</td>\n",
       "      <td>Royal Challengers Bangalore</td>\n",
       "      <td>Chennai Super Kings</td>\n",
       "    </tr>\n",
       "    <tr>\n",
       "      <th>29</th>\n",
       "      <td>M.Chinnaswamy Stadium</td>\n",
       "      <td>1</td>\n",
       "      <td>Royal Challengers Bangalore</td>\n",
       "      <td>Chennai Super Kings</td>\n",
       "    </tr>\n",
       "    <tr>\n",
       "      <th>30</th>\n",
       "      <td>M.Chinnaswamy Stadium</td>\n",
       "      <td>1</td>\n",
       "      <td>Royal Challengers Bangalore</td>\n",
       "      <td>Chennai Super Kings</td>\n",
       "    </tr>\n",
       "    <tr>\n",
       "      <th>31</th>\n",
       "      <td>M.Chinnaswamy Stadium</td>\n",
       "      <td>1</td>\n",
       "      <td>Royal Challengers Bangalore</td>\n",
       "      <td>Chennai Super Kings</td>\n",
       "    </tr>\n",
       "    <tr>\n",
       "      <th>32</th>\n",
       "      <td>M.Chinnaswamy Stadium</td>\n",
       "      <td>1</td>\n",
       "      <td>Royal Challengers Bangalore</td>\n",
       "      <td>Chennai Super Kings</td>\n",
       "    </tr>\n",
       "    <tr>\n",
       "      <th>33</th>\n",
       "      <td>M.Chinnaswamy Stadium</td>\n",
       "      <td>1</td>\n",
       "      <td>Royal Challengers Bangalore</td>\n",
       "      <td>Chennai Super Kings</td>\n",
       "    </tr>\n",
       "    <tr>\n",
       "      <th>34</th>\n",
       "      <td>M.Chinnaswamy Stadium</td>\n",
       "      <td>1</td>\n",
       "      <td>Royal Challengers Bangalore</td>\n",
       "      <td>Chennai Super Kings</td>\n",
       "    </tr>\n",
       "    <tr>\n",
       "      <th>35</th>\n",
       "      <td>M.Chinnaswamy Stadium</td>\n",
       "      <td>1</td>\n",
       "      <td>Royal Challengers Bangalore</td>\n",
       "      <td>Chennai Super Kings</td>\n",
       "    </tr>\n",
       "  </tbody>\n",
       "</table>\n",
       "</div>"
      ],
      "text/plain": [
       "                    venue  innings                 batting_team  \\\n",
       "0   M.Chinnaswamy Stadium        1  Royal Challengers Bangalore   \n",
       "1   M.Chinnaswamy Stadium        1  Royal Challengers Bangalore   \n",
       "2   M.Chinnaswamy Stadium        1  Royal Challengers Bangalore   \n",
       "3   M.Chinnaswamy Stadium        1  Royal Challengers Bangalore   \n",
       "4   M.Chinnaswamy Stadium        1  Royal Challengers Bangalore   \n",
       "5   M.Chinnaswamy Stadium        1  Royal Challengers Bangalore   \n",
       "6   M.Chinnaswamy Stadium        1  Royal Challengers Bangalore   \n",
       "7   M.Chinnaswamy Stadium        1  Royal Challengers Bangalore   \n",
       "8   M.Chinnaswamy Stadium        1  Royal Challengers Bangalore   \n",
       "9   M.Chinnaswamy Stadium        1  Royal Challengers Bangalore   \n",
       "10  M.Chinnaswamy Stadium        1  Royal Challengers Bangalore   \n",
       "11  M.Chinnaswamy Stadium        1  Royal Challengers Bangalore   \n",
       "12  M.Chinnaswamy Stadium        1  Royal Challengers Bangalore   \n",
       "13  M.Chinnaswamy Stadium        1  Royal Challengers Bangalore   \n",
       "14  M.Chinnaswamy Stadium        1  Royal Challengers Bangalore   \n",
       "15  M.Chinnaswamy Stadium        1  Royal Challengers Bangalore   \n",
       "16  M.Chinnaswamy Stadium        1  Royal Challengers Bangalore   \n",
       "17  M.Chinnaswamy Stadium        1  Royal Challengers Bangalore   \n",
       "18  M.Chinnaswamy Stadium        1  Royal Challengers Bangalore   \n",
       "19  M.Chinnaswamy Stadium        1  Royal Challengers Bangalore   \n",
       "20  M.Chinnaswamy Stadium        1  Royal Challengers Bangalore   \n",
       "21  M.Chinnaswamy Stadium        1  Royal Challengers Bangalore   \n",
       "22  M.Chinnaswamy Stadium        1  Royal Challengers Bangalore   \n",
       "23  M.Chinnaswamy Stadium        1  Royal Challengers Bangalore   \n",
       "24  M.Chinnaswamy Stadium        1  Royal Challengers Bangalore   \n",
       "25  M.Chinnaswamy Stadium        1  Royal Challengers Bangalore   \n",
       "26  M.Chinnaswamy Stadium        1  Royal Challengers Bangalore   \n",
       "27  M.Chinnaswamy Stadium        1  Royal Challengers Bangalore   \n",
       "28  M.Chinnaswamy Stadium        1  Royal Challengers Bangalore   \n",
       "29  M.Chinnaswamy Stadium        1  Royal Challengers Bangalore   \n",
       "30  M.Chinnaswamy Stadium        1  Royal Challengers Bangalore   \n",
       "31  M.Chinnaswamy Stadium        1  Royal Challengers Bangalore   \n",
       "32  M.Chinnaswamy Stadium        1  Royal Challengers Bangalore   \n",
       "33  M.Chinnaswamy Stadium        1  Royal Challengers Bangalore   \n",
       "34  M.Chinnaswamy Stadium        1  Royal Challengers Bangalore   \n",
       "35  M.Chinnaswamy Stadium        1  Royal Challengers Bangalore   \n",
       "\n",
       "           bowling_team  \n",
       "0   Chennai Super Kings  \n",
       "1   Chennai Super Kings  \n",
       "2   Chennai Super Kings  \n",
       "3   Chennai Super Kings  \n",
       "4   Chennai Super Kings  \n",
       "5   Chennai Super Kings  \n",
       "6   Chennai Super Kings  \n",
       "7   Chennai Super Kings  \n",
       "8   Chennai Super Kings  \n",
       "9   Chennai Super Kings  \n",
       "10  Chennai Super Kings  \n",
       "11  Chennai Super Kings  \n",
       "12  Chennai Super Kings  \n",
       "13  Chennai Super Kings  \n",
       "14  Chennai Super Kings  \n",
       "15  Chennai Super Kings  \n",
       "16  Chennai Super Kings  \n",
       "17  Chennai Super Kings  \n",
       "18  Chennai Super Kings  \n",
       "19  Chennai Super Kings  \n",
       "20  Chennai Super Kings  \n",
       "21  Chennai Super Kings  \n",
       "22  Chennai Super Kings  \n",
       "23  Chennai Super Kings  \n",
       "24  Chennai Super Kings  \n",
       "25  Chennai Super Kings  \n",
       "26  Chennai Super Kings  \n",
       "27  Chennai Super Kings  \n",
       "28  Chennai Super Kings  \n",
       "29  Chennai Super Kings  \n",
       "30  Chennai Super Kings  \n",
       "31  Chennai Super Kings  \n",
       "32  Chennai Super Kings  \n",
       "33  Chennai Super Kings  \n",
       "34  Chennai Super Kings  \n",
       "35  Chennai Super Kings  "
      ]
     },
     "execution_count": 74,
     "metadata": {},
     "output_type": "execute_result"
    }
   ],
   "source": [
    "X_test"
   ]
  },
  {
   "cell_type": "code",
   "execution_count": 75,
   "id": "1e9d26aa",
   "metadata": {},
   "outputs": [
    {
     "name": "stdout",
     "output_type": "stream",
     "text": [
      "[0, 0, 0, 0, 0, 0, 1, 0, 1, 0, 0, 0, 0, 0, 0, 0, 0, 0, 1, 0, 0, 0, 1, 0]\n",
      "43\n"
     ]
    }
   ],
   "source": [
    "    temp_array=[]\n",
    "\n",
    "\n",
    "    if batting_team == 'Chennai Super Kings':\n",
    "        temp_array = temp_array + [1, 0, 0, 0, 0, 0, 0, 0]\n",
    "    elif batting_team == 'Delhi Daredevils':\n",
    "        temp_array = temp_array + [0, 1, 0, 0, 0, 0, 0, 0]\n",
    "    elif batting_team == 'Kings XI Punjab':\n",
    "        temp_array = temp_array + [0, 0, 1, 0, 0, 0, 0, 0]\n",
    "    elif batting_team == 'Kolkata Knight Riders':\n",
    "        temp_array = temp_array + [0, 0, 0, 1, 0, 0, 0, 0]\n",
    "    elif batting_team == 'Mumbai Indians':\n",
    "        temp_array = temp_array + [0, 0, 0, 0, 1, 0, 0, 0]\n",
    "    elif batting_team == 'Rajasthan Royals':\n",
    "        temp_array = temp_array + [0, 0, 0, 0, 0, 1, 0, 0]\n",
    "    elif batting_team == 'Royal Challengers Bangalore':\n",
    "        temp_array = temp_array + [0, 0, 0, 0, 0, 0, 1, 0]\n",
    "    elif batting_team == 'Sunrisers Hyderabad':\n",
    "        temp_array = temp_array + [0, 0, 0, 0, 0, 0, 0, 1]\n",
    "\n",
    "    \n",
    "    if bowling_team == 'Chennai Super Kings':\n",
    "        temp_array = temp_array + [1, 0, 0, 0, 0, 0, 0, 0]\n",
    "    elif bowling_team == 'Delhi Daredevils':\n",
    "        temp_array = temp_array + [0, 1, 0, 0, 0, 0, 0, 0]\n",
    "    elif bowling_team == 'Kings XI Punjab':\n",
    "        temp_array = temp_array + [0, 0, 1, 0, 0, 0, 0, 0]\n",
    "    elif bowling_team == 'Kolkata Knight Riders':\n",
    "        temp_array = temp_array + [0, 0, 0, 1, 0, 0, 0, 0]\n",
    "    elif bowling_team == 'Mumbai Indians':\n",
    "        temp_array = temp_array + [0, 0, 0, 0, 1, 0, 0, 0]\n",
    "    elif bowling_team == 'Rajasthan Royals':\n",
    "        temp_array = temp_array + [0, 0, 0, 0, 0, 1, 0, 0]\n",
    "    elif bowling_team == 'Royal Challengers Bangalore':\n",
    "        temp_array = temp_array + [0, 0, 0, 0, 0, 0, 1, 0]\n",
    "    elif bowling_team == 'Sunrisers Hyderabad':\n",
    "        temp_array = temp_array + [0, 0, 0, 0, 0, 0, 0, 1]\n",
    "\n",
    "    \n",
    "    if venue == 'Arun Jaitley Stadium':\n",
    "        temp_array = temp_array + [1, 0, 0, 0, 0, 0]\n",
    "    elif venue == 'Eden Gardens':\n",
    "        temp_array = temp_array + [0, 1, 0, 0, 0, 0]\n",
    "    elif venue == 'M.Chinnaswamy Stadium':\n",
    "        temp_array = temp_array + [0, 0, 1, 0, 0, 0]\n",
    "    elif venue == 'MA Chidambaram Stadium, Chepauk, Chennai':\n",
    "        temp_array = temp_array + [0, 0, 0, 1, 0, 0]\n",
    "    elif venue == 'Narendra Modi Stadium, Ahmedabad':\n",
    "        temp_array = temp_array + [0, 0, 0, 0, 1, 0]\n",
    "    elif venue == 'Wankhede Stadium':\n",
    "        temp_array = temp_array + [0, 0, 0, 0, 0, 1]\n",
    "        \n",
    "    if innings == 1:\n",
    "        temp_array = temp_array + [1, 0]\n",
    "    elif innings == 2:\n",
    "        temp_array = temp_array + [0, 1]\n",
    "\n",
    "    \n",
    "    \"\"\"ball=X_test['ball'][n-1]\n",
    "    runs_of_bat=X_test['runs_off_bat'][n-1]\n",
    "    runs = X_test['runs_6_overs'][n-1]\n",
    "    wickets = X_test['wickets_6_overs'][n-1]\"\"\"\n",
    "\n",
    "    print(temp_array)\n",
    "    data = np.array([temp_array])\n",
    "    my_prediction = int(regressor.predict(data)[0])\n",
    "    print(my_prediction)"
   ]
  },
  {
   "cell_type": "code",
   "execution_count": 76,
   "id": "65193639",
   "metadata": {},
   "outputs": [
    {
     "data": {
      "text/plain": [
       "(1, 24)"
      ]
     },
     "execution_count": 76,
     "metadata": {},
     "output_type": "execute_result"
    }
   ],
   "source": [
    "data.shape"
   ]
  },
  {
   "cell_type": "code",
   "execution_count": 77,
   "id": "d430064c",
   "metadata": {},
   "outputs": [],
   "source": [
    "from sklearn.linear_model import Ridge\n",
    "from sklearn.model_selection import GridSearchCV"
   ]
  },
  {
   "cell_type": "code",
   "execution_count": 78,
   "id": "4af5079c",
   "metadata": {},
   "outputs": [
    {
     "data": {
      "text/plain": [
       "GridSearchCV(cv=5, estimator=Ridge(),\n",
       "             param_grid={'alpha': [1e-15, 1e-10, 1e-08, 0.001, 0.01, 1, 5, 10,\n",
       "                                   20, 30, 35, 40, 50, 60, 70, 80, 90, 100, 200,\n",
       "                                   300, 400, 500, 600, 700, 800, 900, 1000,\n",
       "                                   5000, 100000000000.0]},\n",
       "             scoring='r2')"
      ]
     },
     "execution_count": 78,
     "metadata": {},
     "output_type": "execute_result"
    }
   ],
   "source": [
    "ridge=Ridge()\n",
    "parameters={'alpha':[1e-15,1e-10,1e-8,1e-3,1e-2,1,5,10,20,30,35,40,50,60,70,80,90,100,200,300,400,500,600,700,800,900,1000,5000,10e+10]}\n",
    "ridge_regressor=GridSearchCV(ridge,parameters,scoring='r2',cv=5)\n",
    "ridge_regressor.fit(X_train,y_train)"
   ]
  },
  {
   "cell_type": "code",
   "execution_count": 79,
   "id": "1f3c564d",
   "metadata": {},
   "outputs": [
    {
     "name": "stdout",
     "output_type": "stream",
     "text": [
      "{'alpha': 100000000000.0}\n",
      "-0.04788942150537636\n"
     ]
    }
   ],
   "source": [
    "print(ridge_regressor.best_params_)\n",
    "print(ridge_regressor.best_score_)"
   ]
  },
  {
   "cell_type": "code",
   "execution_count": 80,
   "id": "95eb9bd9",
   "metadata": {},
   "outputs": [
    {
     "data": {
      "text/plain": [
       "array([43.56665647])"
      ]
     },
     "execution_count": 80,
     "metadata": {},
     "output_type": "execute_result"
    }
   ],
   "source": [
    "ridge_regressor.predict(data)"
   ]
  },
  {
   "cell_type": "code",
   "execution_count": 81,
   "id": "339ecaa4",
   "metadata": {},
   "outputs": [],
   "source": [
    "from sklearn.linear_model import SGDRegressor\n",
    "from sklearn.model_selection import GridSearchCV"
   ]
  },
  {
   "cell_type": "code",
   "execution_count": 82,
   "id": "b4b0b0b4",
   "metadata": {},
   "outputs": [
    {
     "name": "stdout",
     "output_type": "stream",
     "text": [
      "{'alpha': 20}\n",
      "-0.04377886854033632\n"
     ]
    }
   ],
   "source": [
    "lasso=SGDRegressor()\n",
    "parameters={'alpha':[1e-15,1e-10,1e-8,1e-3,1e-2,1,5,10,20,30,35,40,50,60,70,80,90,100,200,300,400,500,600,700,800,900,1000,5000,10e+10]}\n",
    "lasso_regressor=GridSearchCV(lasso,parameters,scoring='r2',cv=5)\n",
    "\n",
    "lasso_regressor.fit(X_train,y_train)\n",
    "print(lasso_regressor.best_params_)\n",
    "print(lasso_regressor.best_score_)"
   ]
  },
  {
   "cell_type": "code",
   "execution_count": 83,
   "id": "8f8aef78",
   "metadata": {},
   "outputs": [
    {
     "data": {
      "text/plain": [
       "array([43.40213806])"
      ]
     },
     "execution_count": 83,
     "metadata": {},
     "output_type": "execute_result"
    }
   ],
   "source": [
    "lasso_regressor.predict(data)"
   ]
  },
  {
   "cell_type": "code",
   "execution_count": 84,
   "id": "cc2273c7",
   "metadata": {},
   "outputs": [],
   "source": [
    "from sklearn.neural_network import MLPRegressor"
   ]
  },
  {
   "cell_type": "code",
   "execution_count": null,
   "id": "b58edb06",
   "metadata": {},
   "outputs": [],
   "source": []
  },
  {
   "cell_type": "code",
   "execution_count": null,
   "id": "5452ff96",
   "metadata": {},
   "outputs": [],
   "source": []
  },
  {
   "cell_type": "code",
   "execution_count": 42,
   "id": "057e8a5f",
   "metadata": {},
   "outputs": [],
   "source": [
    "from sklearn.svm import SVR\n",
    "regr = SVR()\n",
    "parameters={'alpha':[1e-15,1e-10,1e-8,1e-3,1e-2,1,5,10,20,30,35,40,50,60,70,80,90,100,200,300,400,500,600,700,800,900,1000,5000,10e+10]}\n",
    "RF=GridSearchCV(regr,parameters,scoring='r2',cv=5)\n"
   ]
  },
  {
   "cell_type": "code",
   "execution_count": 46,
   "id": "1bfdc461",
   "metadata": {},
   "outputs": [
    {
     "data": {
      "text/plain": [
       "SVR()"
      ]
     },
     "execution_count": 46,
     "metadata": {},
     "output_type": "execute_result"
    }
   ],
   "source": [
    "regr.fit(X_train,y_train)\n"
   ]
  },
  {
   "cell_type": "code",
   "execution_count": 44,
   "id": "6bc837f0",
   "metadata": {},
   "outputs": [
    {
     "data": {
      "text/plain": [
       "array([36.10033662])"
      ]
     },
     "execution_count": 44,
     "metadata": {},
     "output_type": "execute_result"
    }
   ],
   "source": [
    "regr.predict(data)"
   ]
  },
  {
   "cell_type": "code",
   "execution_count": 102,
   "id": "3ebf6fe6",
   "metadata": {},
   "outputs": [
    {
     "data": {
      "text/plain": [
       "KNeighborsRegressor()"
      ]
     },
     "execution_count": 102,
     "metadata": {},
     "output_type": "execute_result"
    }
   ],
   "source": [
    "from sklearn.neighbors import KNeighborsRegressor\n",
    "Knn = KNeighborsRegressor()\n",
    "Knn.fit(X_train,y_train)"
   ]
  },
  {
   "cell_type": "code",
   "execution_count": 103,
   "id": "8db29ecf",
   "metadata": {},
   "outputs": [
    {
     "data": {
      "text/plain": [
       "array([34.])"
      ]
     },
     "execution_count": 103,
     "metadata": {},
     "output_type": "execute_result"
    }
   ],
   "source": [
    "Knn.predict(data)"
   ]
  },
  {
   "cell_type": "code",
   "execution_count": 85,
   "id": "e82931cd",
   "metadata": {},
   "outputs": [],
   "source": []
  },
  {
   "cell_type": "code",
   "execution_count": 86,
   "id": "8b7455b9",
   "metadata": {},
   "outputs": [
    {
     "data": {
      "text/plain": [
       "GaussianProcessRegressor()"
      ]
     },
     "execution_count": 86,
     "metadata": {},
     "output_type": "execute_result"
    }
   ],
   "source": []
  },
  {
   "cell_type": "code",
   "execution_count": 87,
   "id": "3122c7f7",
   "metadata": {},
   "outputs": [
    {
     "data": {
      "text/plain": [
       "array([0.])"
      ]
     },
     "execution_count": 87,
     "metadata": {},
     "output_type": "execute_result"
    }
   ],
   "source": []
  },
  {
   "cell_type": "code",
   "execution_count": 110,
   "id": "bd01be97",
   "metadata": {},
   "outputs": [],
   "source": [
    "from sklearn.kernel_ridge import KernelRidge"
   ]
  },
  {
   "cell_type": "code",
   "execution_count": null,
   "id": "f2b1a06d",
   "metadata": {},
   "outputs": [],
   "source": [
    "KernelRidge().fit(X_train,y_train)"
   ]
  },
  {
   "cell_type": "code",
   "execution_count": null,
   "id": "39f8335c",
   "metadata": {},
   "outputs": [],
   "source": [
    "KernelRidge().predict(data)"
   ]
  }
 ],
 "metadata": {
  "kernelspec": {
   "display_name": "Python 3 (ipykernel)",
   "language": "python",
   "name": "python3"
  },
  "language_info": {
   "codemirror_mode": {
    "name": "ipython",
    "version": 3
   },
   "file_extension": ".py",
   "mimetype": "text/x-python",
   "name": "python",
   "nbconvert_exporter": "python",
   "pygments_lexer": "ipython3",
   "version": "3.8.12"
  },
  "latex_envs": {
   "LaTeX_envs_menu_present": true,
   "autoclose": true,
   "autocomplete": true,
   "bibliofile": "biblio.bib",
   "cite_by": "apalike",
   "current_citInitial": 1,
   "eqLabelWithNumbers": true,
   "eqNumInitial": 1,
   "hotkeys": {
    "equation": "Ctrl-E",
    "itemize": "Ctrl-I"
   },
   "labels_anchors": false,
   "latex_user_defs": false,
   "report_style_numbering": false,
   "user_envs_cfg": false
  },
  "varInspector": {
   "cols": {
    "lenName": 16,
    "lenType": 16,
    "lenVar": 40
   },
   "kernels_config": {
    "python": {
     "delete_cmd_postfix": "",
     "delete_cmd_prefix": "del ",
     "library": "var_list.py",
     "varRefreshCmd": "print(var_dic_list())"
    },
    "r": {
     "delete_cmd_postfix": ") ",
     "delete_cmd_prefix": "rm(",
     "library": "var_list.r",
     "varRefreshCmd": "cat(var_dic_list()) "
    }
   },
   "types_to_exclude": [
    "module",
    "function",
    "builtin_function_or_method",
    "instance",
    "_Feature"
   ],
   "window_display": false
  }
 },
 "nbformat": 4,
 "nbformat_minor": 5
}
